{
 "cells": [
  {
   "cell_type": "code",
   "execution_count": null,
   "id": "45b1eacb-ad44-4e7a-8e5b-e1d3754780f6",
   "metadata": {},
   "outputs": [],
   "source": []
  },
  {
   "cell_type": "code",
   "execution_count": null,
   "id": "561b89ab-3d23-440c-b883-747bad89a39b",
   "metadata": {},
   "outputs": [],
   "source": [
    "import tkinter as tk\n",
    "from tkinterweb import HtmlFrame\n",
    "import folium\n",
    "import os\n",
    "\n",
    "# Function to create and save a folium map as an HTML file\n",
    "def create_map():\n",
    "    # Create a map centered at a specific location (example coordinates)\n",
    "    m = folium.Map(location=[52.2297, 21.0122], zoom_start=13)\n",
    "\n",
    "    # Add a marker\n",
    "    folium.Marker([52.2297, 21.0122], popup=\"Marker in Warsaw\").add_to(m)\n",
    "\n",
    "    # Save the map to an HTML file\n",
    "    map_path = \"C:\\\\Users\\\\adamc\\\\My__rep\\\\map.html\"\n",
    "    m.save(map_path)\n",
    "    return map_path\n",
    "\n",
    "# Tkinter window setup\n",
    "root = tk.Tk()\n",
    "root.title(\"Map Display in Tkinter\")\n",
    "root.geometry(\"800x600\")\n",
    "\n",
    "# Create a frame to hold the HTML content\n",
    "frame = HtmlFrame(root, horizontal_scrollbar=\"auto\")\n",
    "frame.pack(fill=\"both\", expand=True)\n",
    "\n",
    "# Create the map and get the path to the HTML file\n",
    "map_path = create_map()\n",
    "\n",
    "# Convert the file path to a proper URL format\n",
    "map_url = f\"file:///{map_path.replace(os.sep, '/')}\"  # Ensure forward slashes for URL\n",
    "\n",
    "# Load the HTML file into the HtmlFrame\n",
    "frame.load_website(map_url)\n",
    "\n",
    "# Run the Tkinter main loop\n",
    "root.mainloop()\n"
   ]
  },
  {
   "cell_type": "code",
   "execution_count": null,
   "id": "f27ff420-ec92-457e-9b35-63b55d2cd309",
   "metadata": {},
   "outputs": [],
   "source": []
  },
  {
   "cell_type": "code",
   "execution_count": null,
   "id": "88d58b58-0172-4b01-b567-c9611fb99752",
   "metadata": {},
   "outputs": [],
   "source": []
  },
  {
   "cell_type": "code",
   "execution_count": null,
   "id": "f6636ee9-8275-43ef-a6a4-6b51bfbc2a5e",
   "metadata": {},
   "outputs": [],
   "source": []
  },
  {
   "cell_type": "code",
   "execution_count": null,
   "id": "6cd00fd7-2889-4c08-b229-82bf34cc2dc7",
   "metadata": {},
   "outputs": [],
   "source": []
  },
  {
   "cell_type": "code",
   "execution_count": null,
   "id": "38fd46cf-e568-4d67-ae1a-6cda66d9241c",
   "metadata": {},
   "outputs": [],
   "source": []
  },
  {
   "cell_type": "code",
   "execution_count": null,
   "id": "c3534fc1-46f1-4b28-bdd6-fdb877699ac9",
   "metadata": {},
   "outputs": [],
   "source": []
  }
 ],
 "metadata": {
  "kernelspec": {
   "display_name": "Python 3 (ipykernel)",
   "language": "python",
   "name": "python3"
  },
  "language_info": {
   "name": ""
  }
 },
 "nbformat": 4,
 "nbformat_minor": 5
}
